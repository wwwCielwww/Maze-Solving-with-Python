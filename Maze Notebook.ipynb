{
 "cells": [
  {
   "cell_type": "code",
   "execution_count": 1,
   "metadata": {},
   "outputs": [],
   "source": [
    "import cv2\n",
    "import numpy as np"
   ]
  },
  {
   "cell_type": "code",
   "execution_count": 2,
   "metadata": {},
   "outputs": [],
   "source": [
    "class vertex:\n",
    "    def __init__(self, x, y):\n",
    "        self.x = x\n",
    "        self.y = y\n",
    "        self.d = float('inf') \n",
    "        self.parent_x = None\n",
    "        self.parent_y = None\n",
    "        self.processed = False\n",
    "        self.index_in_queue = None"
   ]
  },
  {
   "cell_type": "code",
   "execution_count": 3,
   "metadata": {},
   "outputs": [],
   "source": [
    "def get_neighbors(mat, i, j):\n",
    "    shape = mat.shape\n",
    "    neighbors = []\n",
    "\n",
    "    if i > 0 and not mat[i - 1][j].processed:\n",
    "        neighbors.append(mat[i - 1][j])\n",
    "    if i < shape[0] - 1 and not mat[i + 1][j].processed:\n",
    "        neighbors.append(mat[i + 1][j])\n",
    "    if j > 0 and not mat[i][j - 1].processed:\n",
    "        neighbors.append(mat[i][j - 1])\n",
    "    if j < shape[1] - 1 and not mat[i][j + 1].processed:\n",
    "        neighbors.append(mat[i][j + 1])\n",
    "\n",
    "    return neighbors"
   ]
  },
  {
   "cell_type": "code",
   "execution_count": 4,
   "metadata": {},
   "outputs": [],
   "source": [
    "def bubble_up(queue, index):\n",
    "    if index <= 0:\n",
    "        return queue\n",
    "\n",
    "    p_index = (index-1)//2\n",
    "    if queue[index].d < queue[p_index].d:\n",
    "            queue[index], queue[p_index] = queue[p_index], queue[index]\n",
    "            queue[index].index_in_queue = index\n",
    "            queue[p_index].index_in_queue = p_index\n",
    "            queue = bubble_up(queue, p_index)\n",
    "    return queue"
   ]
  },
  {
   "cell_type": "code",
   "execution_count": 5,
   "metadata": {},
   "outputs": [],
   "source": [
    "def bubble_down(queue, index):\n",
    "    length = len(queue)\n",
    "    lc_index = 2 * index + 1\n",
    "    rc_index = lc_index + 1\n",
    "\n",
    "    if lc_index >= length:\n",
    "        return queue\n",
    "    if lc_index < length and rc_index >= length: \n",
    "        if queue[index].d > queue[lc_index].d:\n",
    "            queue[index], queue[lc_index] = queue[lc_index], queue[index]\n",
    "            queue[index].index_in_queue = index\n",
    "            queue[lc_index].index_in_queue = lc_index\n",
    "            queue = bubble_down(queue, lc_index)\n",
    "    else:\n",
    "        small = lc_index\n",
    "        if queue[lc_index].d > queue[rc_index].d:\n",
    "            small = rc_index\n",
    "        if queue[small].d < queue[index].d:\n",
    "            queue[index], queue[small] = queue[small], queue[index]\n",
    "            queue[index].index_in_queue = index\n",
    "            queue[small].index_in_queue = small\n",
    "            queue = bubble_down(queue, small)\n",
    "\n",
    "    return queue"
   ]
  },
  {
   "cell_type": "code",
   "execution_count": 6,
   "metadata": {},
   "outputs": [],
   "source": [
    "def get_distance(img, u, v):\n",
    "    return 0.1 + (float(img[v][0]) - float(img[u][0])) ** 2 +\\\n",
    "        (float(img[v][1]) - float(img[u][1])) ** 2 + (float(img[v][2]) - float(img[u][2])) ** 2"
   ]
  },
  {
   "cell_type": "code",
   "execution_count": 7,
   "metadata": {},
   "outputs": [],
   "source": [
    "def drawPath(img, path, thickness=2):\n",
    "    x0, y0 = path[0]\n",
    "    for vert in path[1:]:\n",
    "        x1, y1 = vert\n",
    "        cv2.line(img, (x0, y0), (x1, y1), (255, 0, 0), thickness)\n",
    "        x0, y0 = vert"
   ]
  },
  {
   "cell_type": "code",
   "execution_count": 8,
   "metadata": {},
   "outputs": [],
   "source": [
    "def find_shortest_path(img, src, dst):\n",
    "    pq = [] \n",
    "    source_x = src[0]\n",
    "    source_y = src[1]\n",
    "    dest_x = dst[0]\n",
    "    dest_y = dst[1]\n",
    "    rows, cols = img.shape[0], img.shape[1]\n",
    "    mat = np.full((rows, cols), None) \n",
    "\n",
    "    for i in range(rows):\n",
    "        for j in range(cols):\n",
    "            mat[i][j] = vertex(j, i)\n",
    "            mat[i][j].index_in_queue = len(pq)\n",
    "            pq.append(mat[i][j])\n",
    "\n",
    "    mat[source_y][source_x].d = 0\n",
    "    pq = bubble_up(pq, mat[source_y][source_x].index_in_queue)\n",
    "    \n",
    "    while len(pq) > 0:\n",
    "        u = pq[0]\n",
    "        u.processed = True\n",
    "        pq[0] = pq[-1]\n",
    "        pq[0].index_in_queue = 0\n",
    "        pq.pop()\n",
    "        pq = bubble_down(pq, 0)\n",
    "        neighbors = get_neighbors(mat, u.y, u.x)\n",
    "\n",
    "        for v in neighbors:\n",
    "            dist = get_distance(img, (u.y, u.x), (v.y, v.x))\n",
    "\n",
    "            if u.d + dist < v.d:\n",
    "                v.d = u.d + dist\n",
    "                v.parent_x = u.x\n",
    "                v.parent_y = u.y\n",
    "                idx = v.index_in_queue\n",
    "                pq = bubble_down(pq, idx)\n",
    "                pq = bubble_up(pq, idx)\n",
    "                          \n",
    "    path=[]\n",
    "    iter_v = mat[dest_y][dest_x]\n",
    "    path.append((dest_x, dest_y)) \n",
    "\n",
    "    while(iter_v.y != source_y or iter_v.x != source_x):\n",
    "        path.append((iter_v.x, iter_v.y))\n",
    "        iter_v = mat[iter_v.parent_y][iter_v.parent_x]\n",
    "\n",
    "    path.append((source_x,source_y))\n",
    "    return path"
   ]
  },
  {
   "cell_type": "code",
   "execution_count": 9,
   "metadata": {},
   "outputs": [],
   "source": [
    "img = cv2.imread(r'sample.jpg') # read the image \n",
    "pos = []"
   ]
  },
  {
   "cell_type": "code",
   "execution_count": 10,
   "metadata": {},
   "outputs": [],
   "source": [
    "def click_event(event, x, y, flags, params): \n",
    "    if event == cv2.EVENT_LBUTTONDOWN: \n",
    "        pos.append((x, y))\n",
    "        cv2.circle(img, pos[-1], 3, (255, 0, 0), -1) # add a circle at (5, 220)\n",
    "        cv2.imshow('maze', img) \n",
    "        if len(pos) == 2:\n",
    "            p = find_shortest_path(img, pos[0], pos[1])\n",
    "            drawPath(img, p)\n",
    "            cv2.imwrite(r'solved.jpg', img)\n",
    "            cv2.imshow('maze', img)"
   ]
  },
  {
   "cell_type": "code",
   "execution_count": 11,
   "metadata": {},
   "outputs": [],
   "source": [
    "cv2.imshow('maze', img) \n",
    "cv2.setMouseCallback('maze', click_event) \n",
    "cv2.waitKey(0) \n",
    "cv2.destroyAllWindows() "
   ]
  }
 ],
 "metadata": {
  "kernelspec": {
   "display_name": "Python 3",
   "language": "python",
   "name": "python3"
  },
  "language_info": {
   "codemirror_mode": {
    "name": "ipython",
    "version": 3
   },
   "file_extension": ".py",
   "mimetype": "text/x-python",
   "name": "python",
   "nbconvert_exporter": "python",
   "pygments_lexer": "ipython3",
   "version": "3.6.10"
  },
  "latex_envs": {
   "LaTeX_envs_menu_present": true,
   "autoclose": false,
   "autocomplete": true,
   "bibliofile": "biblio.bib",
   "cite_by": "apalike",
   "current_citInitial": 1,
   "eqLabelWithNumbers": true,
   "eqNumInitial": 1,
   "hotkeys": {
    "equation": "Ctrl-E",
    "itemize": "Ctrl-I"
   },
   "labels_anchors": false,
   "latex_user_defs": false,
   "report_style_numbering": false,
   "user_envs_cfg": false
  },
  "toc": {
   "base_numbering": 1,
   "nav_menu": {},
   "number_sections": true,
   "sideBar": true,
   "skip_h1_title": false,
   "title_cell": "Table of Contents",
   "title_sidebar": "Contents",
   "toc_cell": false,
   "toc_position": {},
   "toc_section_display": true,
   "toc_window_display": false
  },
  "varInspector": {
   "cols": {
    "lenName": 16,
    "lenType": 16,
    "lenVar": 40
   },
   "kernels_config": {
    "python": {
     "delete_cmd_postfix": "",
     "delete_cmd_prefix": "del ",
     "library": "var_list.py",
     "varRefreshCmd": "print(var_dic_list())"
    },
    "r": {
     "delete_cmd_postfix": ") ",
     "delete_cmd_prefix": "rm(",
     "library": "var_list.r",
     "varRefreshCmd": "cat(var_dic_list()) "
    }
   },
   "types_to_exclude": [
    "module",
    "function",
    "builtin_function_or_method",
    "instance",
    "_Feature"
   ],
   "window_display": false
  }
 },
 "nbformat": 4,
 "nbformat_minor": 2
}
